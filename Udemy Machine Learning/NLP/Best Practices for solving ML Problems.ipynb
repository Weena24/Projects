{
 "cells": [
  {
   "cell_type": "markdown",
   "id": "0adbd16b",
   "metadata": {},
   "source": [
    "### BOW, TFIDF, Machine Learning Algorithms"
   ]
  },
  {
   "cell_type": "markdown",
   "id": "357fbdba",
   "metadata": {},
   "source": [
    "1. Preprocessing and Cleaning - Feature Engineering\n",
    "\n",
    "2. Train Test Split --> Prevent Data Leakage\n",
    "3. BOW and TF-IDF (Convert sentences into vectors) \n",
    "\n",
    "4. Train our model "
   ]
  },
  {
   "cell_type": "markdown",
   "id": "6aaf09db",
   "metadata": {},
   "source": [
    "Training data is used to train the model\n",
    "Test data is used to evaluate the model "
   ]
  },
  {
   "cell_type": "markdown",
   "id": "0de8a2af",
   "metadata": {},
   "source": [
    "When we do train test split prior to vector conversion, we ensure that the model does NOT know a clue about the test data! \n",
    "Prevent Data Leakage"
   ]
  },
  {
   "cell_type": "markdown",
   "id": "53e8b936",
   "metadata": {},
   "source": [
    "If vector conversion is done before, the train data and the test data will be almost similar. "
   ]
  }
 ],
 "metadata": {
  "kernelspec": {
   "display_name": "Python 3 (ipykernel)",
   "language": "python",
   "name": "python3"
  },
  "language_info": {
   "codemirror_mode": {
    "name": "ipython",
    "version": 3
   },
   "file_extension": ".py",
   "mimetype": "text/x-python",
   "name": "python",
   "nbconvert_exporter": "python",
   "pygments_lexer": "ipython3",
   "version": "3.11.5"
  }
 },
 "nbformat": 4,
 "nbformat_minor": 5
}
