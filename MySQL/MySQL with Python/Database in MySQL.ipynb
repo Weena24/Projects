{
 "cells": [
  {
   "cell_type": "code",
   "execution_count": 2,
   "id": "a74fa0b8",
   "metadata": {},
   "outputs": [
    {
     "name": "stdout",
     "output_type": "stream",
     "text": [
      "Collecting mysql-connector-python\n",
      "  Obtaining dependency information for mysql-connector-python from https://files.pythonhosted.org/packages/e2/18/42761250be6ad43a23edb7af85b9720ba8aa1a652036ab4854724d21f628/mysql_connector_python-9.2.0-cp311-cp311-win_amd64.whl.metadata\n",
      "  Downloading mysql_connector_python-9.2.0-cp311-cp311-win_amd64.whl.metadata (6.2 kB)\n",
      "Downloading mysql_connector_python-9.2.0-cp311-cp311-win_amd64.whl (16.1 MB)\n",
      "   ---------------------------------------- 0.0/16.1 MB ? eta -:--:--\n",
      "   ---------------------------------------- 0.0/16.1 MB ? eta -:--:--\n",
      "   ---------------------------------------- 0.0/16.1 MB ? eta -:--:--\n",
      "   ---------------------------------------- 0.0/16.1 MB 162.5 kB/s eta 0:01:39\n",
      "   ---------------------------------------- 0.0/16.1 MB 186.2 kB/s eta 0:01:27\n",
      "   ---------------------------------------- 0.0/16.1 MB 217.9 kB/s eta 0:01:14\n",
      "   ---------------------------------------- 0.1/16.1 MB 280.5 kB/s eta 0:00:58\n",
      "   ---------------------------------------- 0.2/16.1 MB 615.9 kB/s eta 0:00:26\n",
      "   - -------------------------------------- 0.4/16.1 MB 1.3 MB/s eta 0:00:12\n",
      "   -- ------------------------------------- 1.0/16.1 MB 2.8 MB/s eta 0:00:06\n",
      "   ---- ----------------------------------- 1.8/16.1 MB 4.3 MB/s eta 0:00:04\n",
      "   --------- ------------------------------ 3.6/16.1 MB 7.5 MB/s eta 0:00:02\n",
      "   ------------- -------------------------- 5.3/16.1 MB 9.6 MB/s eta 0:00:02\n",
      "   ---------------- ----------------------- 6.5/16.1 MB 10.9 MB/s eta 0:00:01\n",
      "   --------------------- ------------------ 8.6/16.1 MB 13.0 MB/s eta 0:00:01\n",
      "   ------------------------- -------------- 10.4/16.1 MB 24.2 MB/s eta 0:00:01\n",
      "   ---------------------------- ----------- 11.4/16.1 MB 29.7 MB/s eta 0:00:01\n",
      "   ---------------------------- ----------- 11.6/16.1 MB 26.2 MB/s eta 0:00:01\n",
      "   ----------------------------- ---------- 11.7/16.1 MB 24.2 MB/s eta 0:00:01\n",
      "   ----------------------------- ---------- 11.9/16.1 MB 23.4 MB/s eta 0:00:01\n",
      "   ----------------------------- ---------- 12.1/16.1 MB 21.8 MB/s eta 0:00:01\n",
      "   ------------------------------ --------- 12.3/16.1 MB 20.5 MB/s eta 0:00:01\n",
      "   -------------------------------- ------- 12.9/16.1 MB 17.7 MB/s eta 0:00:01\n",
      "   --------------------------------- ------ 13.3/16.1 MB 16.8 MB/s eta 0:00:01\n",
      "   ---------------------------------- ----- 13.8/16.1 MB 16.0 MB/s eta 0:00:01\n",
      "   ----------------------------------- ---- 14.2/16.1 MB 16.0 MB/s eta 0:00:01\n",
      "   ------------------------------------ --- 14.5/16.1 MB 14.9 MB/s eta 0:00:01\n",
      "   ------------------------------------ --- 14.8/16.1 MB 13.6 MB/s eta 0:00:01\n",
      "   ------------------------------------- -- 15.3/16.1 MB 13.1 MB/s eta 0:00:01\n",
      "   -------------------------------------- - 15.3/16.1 MB 12.6 MB/s eta 0:00:01\n",
      "   -------------------------------------- - 15.3/16.1 MB 11.9 MB/s eta 0:00:01\n",
      "   -------------------------------------- - 15.4/16.1 MB 10.9 MB/s eta 0:00:01\n",
      "   -------------------------------------- - 15.5/16.1 MB 10.4 MB/s eta 0:00:01\n",
      "   -------------------------------------- - 15.5/16.1 MB 9.9 MB/s eta 0:00:01\n",
      "   -------------------------------------- - 15.6/16.1 MB 9.6 MB/s eta 0:00:01\n",
      "   ---------------------------------------  15.8/16.1 MB 9.4 MB/s eta 0:00:01\n",
      "   ---------------------------------------  16.1/16.1 MB 8.8 MB/s eta 0:00:01\n",
      "   ---------------------------------------  16.1/16.1 MB 8.6 MB/s eta 0:00:01\n",
      "   ---------------------------------------  16.1/16.1 MB 8.6 MB/s eta 0:00:01\n",
      "   ---------------------------------------  16.1/16.1 MB 8.6 MB/s eta 0:00:01\n",
      "   ---------------------------------------  16.1/16.1 MB 8.6 MB/s eta 0:00:01\n",
      "   ---------------------------------------- 16.1/16.1 MB 7.2 MB/s eta 0:00:00\n",
      "Installing collected packages: mysql-connector-python\n",
      "Successfully installed mysql-connector-python-9.2.0\n"
     ]
    }
   ],
   "source": [
    "!pip install mysql-connector-python"
   ]
  },
  {
   "cell_type": "code",
   "execution_count": 1,
   "id": "ab47e9aa",
   "metadata": {},
   "outputs": [],
   "source": [
    "### Create SQL Connection\n",
    "import mysql.connector as sql"
   ]
  },
  {
   "cell_type": "code",
   "execution_count": 3,
   "id": "1a071799",
   "metadata": {},
   "outputs": [
    {
     "name": "stdout",
     "output_type": "stream",
     "text": [
      "<mysql.connector.connection_cext.CMySQLConnection object at 0x000002EF720AC6D0>\n"
     ]
    }
   ],
   "source": [
    "connection = sql.connect(\n",
    "    host=\"localhost\",\n",
    "    user=\"root\",\n",
    "    password=\"12345\"\n",
    ")\n",
    "\n",
    "print(connection)"
   ]
  },
  {
   "cell_type": "markdown",
   "id": "91b7accc",
   "metadata": {},
   "source": [
    "## Creating Databases"
   ]
  },
  {
   "cell_type": "code",
   "execution_count": 4,
   "id": "f9a2ee22",
   "metadata": {},
   "outputs": [],
   "source": [
    "cursor = connection.cursor()\n",
    "\n",
    "cursor.execute(\"DROP DATABASE student\")"
   ]
  },
  {
   "cell_type": "code",
   "execution_count": 5,
   "id": "ad94b094",
   "metadata": {},
   "outputs": [],
   "source": [
    "cursor = connection.cursor()\n",
    "\n",
    "cursor.execute(\"CREATE DATABASE student\")"
   ]
  },
  {
   "cell_type": "code",
   "execution_count": 6,
   "id": "3d02f83d",
   "metadata": {},
   "outputs": [],
   "source": [
    "cursor.execute('SHOW DATABASES')"
   ]
  },
  {
   "cell_type": "code",
   "execution_count": 7,
   "id": "3f1632e3",
   "metadata": {},
   "outputs": [
    {
     "name": "stdout",
     "output_type": "stream",
     "text": [
      "('company',)\n",
      "('customer',)\n",
      "('information_schema',)\n",
      "('mysql',)\n",
      "('parks_and_recreation',)\n",
      "('performance_schema',)\n",
      "('sakila',)\n",
      "('student',)\n",
      "('sys',)\n",
      "('weena',)\n",
      "('world',)\n",
      "('world_layoffs',)\n"
     ]
    }
   ],
   "source": [
    "for database in cursor:\n",
    "    print(database)"
   ]
  },
  {
   "cell_type": "markdown",
   "id": "d6684e99",
   "metadata": {},
   "source": [
    "## Create Table in MySQL using Python "
   ]
  },
  {
   "cell_type": "code",
   "execution_count": 8,
   "id": "8d68b017",
   "metadata": {},
   "outputs": [],
   "source": [
    "cursor = connection.cursor()\n",
    "cursor.execute ('USE student')"
   ]
  },
  {
   "cell_type": "code",
   "execution_count": 9,
   "id": "23bc73ae",
   "metadata": {},
   "outputs": [],
   "source": [
    "cursor.execute(\"CREATE TABLE studentinfo (id INT AUTO_INCREMENT PRIMARY KEY, name VARCHAR(255), subject VARCHAR (255))\")"
   ]
  },
  {
   "cell_type": "markdown",
   "id": "41df2755",
   "metadata": {},
   "source": [
    "## Insert Records in Table"
   ]
  },
  {
   "cell_type": "code",
   "execution_count": 10,
   "id": "eff0afa4",
   "metadata": {},
   "outputs": [
    {
     "name": "stdout",
     "output_type": "stream",
     "text": [
      "Row inserted 1\n"
     ]
    }
   ],
   "source": [
    "query = \"INSERT INTO studentinfo (name, subject) VALUES (%s, %s)\"\n",
    "value = (\"John\", \"Stats\")\n",
    "cursor.execute(query,value)\n",
    "connection.commit()\n",
    "print(\"Row inserted\", cursor.lastrowid)"
   ]
  },
  {
   "cell_type": "code",
   "execution_count": 12,
   "id": "5794f578",
   "metadata": {},
   "outputs": [
    {
     "data": {
      "text/plain": [
       "[(1, 'John', 'Stats')]"
      ]
     },
     "execution_count": 12,
     "metadata": {},
     "output_type": "execute_result"
    }
   ],
   "source": [
    "# Fetch all the Data\n",
    "cursor.execute(\"Select * from studentinfo\")\n",
    "cursor.fetchall()"
   ]
  },
  {
   "cell_type": "code",
   "execution_count": 13,
   "id": "91331470",
   "metadata": {},
   "outputs": [
    {
     "name": "stdout",
     "output_type": "stream",
     "text": [
      "Row inserted 2\n"
     ]
    }
   ],
   "source": [
    "# Insert multiple records in Table\n",
    "query = \"INSERT INTO studentinfo (name, subject) VALUES (%s, %s)\"\n",
    "values = [(\"Krish\", \"Stats\"),\n",
    "         (\"Joe\", \"Maths\"),\n",
    "         (\"Ankur\", \"Data Science\"),\n",
    "         (\"Paul\", \"Data Science\"),\n",
    "         (\"Vishal\", \"Maths\"),\n",
    "         (\"Krish\", \"Data Science\")]\n",
    "cursor.executemany(query,values)\n",
    "connection.commit()\n",
    "print(\"Row inserted\", cursor.lastrowid)"
   ]
  },
  {
   "cell_type": "code",
   "execution_count": 19,
   "id": "a4daae66",
   "metadata": {},
   "outputs": [
    {
     "data": {
      "text/plain": [
       "[(1, 'John', 'Stats'),\n",
       " (2, 'Krish', 'Stats'),\n",
       " (3, 'Joe', 'Maths'),\n",
       " (4, 'Ankur', 'Data Science'),\n",
       " (5, 'Paul', 'Data Science'),\n",
       " (6, 'Vishal', 'Maths'),\n",
       " (7, 'Krish', 'Data Science')]"
      ]
     },
     "execution_count": 19,
     "metadata": {},
     "output_type": "execute_result"
    }
   ],
   "source": [
    "# Fetch all the Data\n",
    "cursor = connection.cursor()\n",
    "cursor.execute(\"Select * from studentinfo\")\n",
    "cursor.fetchall()"
   ]
  },
  {
   "cell_type": "code",
   "execution_count": 35,
   "id": "af02dc41",
   "metadata": {},
   "outputs": [],
   "source": [
    "cursor.execute(\"Select * from studentinfo\")"
   ]
  },
  {
   "cell_type": "code",
   "execution_count": 32,
   "id": "413e895c",
   "metadata": {},
   "outputs": [
    {
     "data": {
      "text/plain": [
       "(1, 'John', 'Stats')"
      ]
     },
     "execution_count": 32,
     "metadata": {},
     "output_type": "execute_result"
    }
   ],
   "source": [
    "## Fetch one record at a time\n",
    "cursor.fetchone()"
   ]
  },
  {
   "cell_type": "code",
   "execution_count": 36,
   "id": "93f4fd82",
   "metadata": {},
   "outputs": [],
   "source": [
    "lst = cursor.fetchall()"
   ]
  },
  {
   "cell_type": "code",
   "execution_count": 37,
   "id": "f39377ae",
   "metadata": {},
   "outputs": [
    {
     "name": "stdout",
     "output_type": "stream",
     "text": [
      "(1, 'John', 'Stats')\n",
      "(2, 'Krish', 'Stats')\n",
      "(3, 'Joe', 'Maths')\n",
      "(4, 'Ankur', 'Data Science')\n",
      "(5, 'Paul', 'Data Science')\n",
      "(6, 'Vishal', 'Maths')\n",
      "(7, 'Krish', 'Data Science')\n"
     ]
    }
   ],
   "source": [
    "for records in lst:\n",
    "    print(records)"
   ]
  },
  {
   "cell_type": "markdown",
   "id": "007dcc48",
   "metadata": {},
   "source": [
    "## Select Particular Rows"
   ]
  },
  {
   "cell_type": "code",
   "execution_count": 38,
   "id": "1393d8dc",
   "metadata": {},
   "outputs": [],
   "source": [
    "cursor.execute(\"Select * from studentinfo where name='Krish'\")"
   ]
  },
  {
   "cell_type": "code",
   "execution_count": 39,
   "id": "0a4268a6",
   "metadata": {},
   "outputs": [
    {
     "data": {
      "text/plain": [
       "[(2, 'Krish', 'Stats'), (7, 'Krish', 'Data Science')]"
      ]
     },
     "execution_count": 39,
     "metadata": {},
     "output_type": "execute_result"
    }
   ],
   "source": [
    "### Fetch all the data\n",
    "cursor.fetchall()"
   ]
  },
  {
   "cell_type": "markdown",
   "id": "cc6aac98",
   "metadata": {},
   "source": [
    "## Select Particular Columns"
   ]
  },
  {
   "cell_type": "code",
   "execution_count": 40,
   "id": "05ecfc5d",
   "metadata": {},
   "outputs": [
    {
     "data": {
      "text/plain": [
       "[('Stats',),\n",
       " ('Stats',),\n",
       " ('Maths',),\n",
       " ('Data Science',),\n",
       " ('Data Science',),\n",
       " ('Maths',),\n",
       " ('Data Science',)]"
      ]
     },
     "execution_count": 40,
     "metadata": {},
     "output_type": "execute_result"
    }
   ],
   "source": [
    "cursor.execute(\"Select subject from studentinfo\")\n",
    "cursor.fetchall()"
   ]
  },
  {
   "cell_type": "code",
   "execution_count": 41,
   "id": "de365d41",
   "metadata": {},
   "outputs": [
    {
     "data": {
      "text/plain": [
       "[('Stats',), ('Maths',), ('Data Science',)]"
      ]
     },
     "execution_count": 41,
     "metadata": {},
     "output_type": "execute_result"
    }
   ],
   "source": [
    "## Select Distinct subjects\n",
    "cursor.execute(\"SELECT DISTINCT subject from studentinfo\")\n",
    "cursor.fetchall()"
   ]
  },
  {
   "cell_type": "markdown",
   "id": "31cb5002",
   "metadata": {},
   "source": [
    "## Multiple conditions"
   ]
  },
  {
   "cell_type": "code",
   "execution_count": 42,
   "id": "a0c16be1",
   "metadata": {},
   "outputs": [
    {
     "data": {
      "text/plain": [
       "[('Krish', 'Stats'),\n",
       " ('Ankur', 'Data Science'),\n",
       " ('Paul', 'Data Science'),\n",
       " ('Krish', 'Data Science')]"
      ]
     },
     "execution_count": 42,
     "metadata": {},
     "output_type": "execute_result"
    }
   ],
   "source": [
    "cursor.execute(\"SELECT name, subject FROM studentinfo WHERE name = 'Krish' OR subject = 'Data Science'\")\n",
    "cursor.fetchall()"
   ]
  },
  {
   "cell_type": "markdown",
   "id": "87caff31",
   "metadata": {},
   "source": [
    "## Drop Table"
   ]
  },
  {
   "cell_type": "code",
   "execution_count": null,
   "id": "6fb0991d",
   "metadata": {},
   "outputs": [],
   "source": [
    "cursor.execute(\"DROP TABLE studentinfo\")"
   ]
  },
  {
   "cell_type": "code",
   "execution_count": null,
   "id": "7e856a02",
   "metadata": {},
   "outputs": [],
   "source": []
  },
  {
   "cell_type": "code",
   "execution_count": null,
   "id": "54d1e988",
   "metadata": {},
   "outputs": [],
   "source": []
  },
  {
   "cell_type": "code",
   "execution_count": null,
   "id": "c6fa6468",
   "metadata": {},
   "outputs": [],
   "source": []
  },
  {
   "cell_type": "code",
   "execution_count": null,
   "id": "5a3b9d5b",
   "metadata": {},
   "outputs": [],
   "source": []
  },
  {
   "cell_type": "code",
   "execution_count": null,
   "id": "d3a51509",
   "metadata": {},
   "outputs": [],
   "source": []
  },
  {
   "cell_type": "code",
   "execution_count": null,
   "id": "21771542",
   "metadata": {},
   "outputs": [],
   "source": []
  },
  {
   "cell_type": "code",
   "execution_count": null,
   "id": "6a497858",
   "metadata": {},
   "outputs": [],
   "source": []
  },
  {
   "cell_type": "code",
   "execution_count": null,
   "id": "72fa6ea4",
   "metadata": {},
   "outputs": [],
   "source": []
  },
  {
   "cell_type": "code",
   "execution_count": null,
   "id": "251f8bee",
   "metadata": {},
   "outputs": [],
   "source": []
  },
  {
   "cell_type": "code",
   "execution_count": null,
   "id": "961d491e",
   "metadata": {},
   "outputs": [],
   "source": []
  },
  {
   "cell_type": "code",
   "execution_count": null,
   "id": "0262c46d",
   "metadata": {},
   "outputs": [],
   "source": []
  },
  {
   "cell_type": "code",
   "execution_count": null,
   "id": "4aff5ece",
   "metadata": {},
   "outputs": [],
   "source": []
  }
 ],
 "metadata": {
  "kernelspec": {
   "display_name": "Python 3 (ipykernel)",
   "language": "python",
   "name": "python3"
  },
  "language_info": {
   "codemirror_mode": {
    "name": "ipython",
    "version": 3
   },
   "file_extension": ".py",
   "mimetype": "text/x-python",
   "name": "python",
   "nbconvert_exporter": "python",
   "pygments_lexer": "ipython3",
   "version": "3.11.5"
  }
 },
 "nbformat": 4,
 "nbformat_minor": 5
}
