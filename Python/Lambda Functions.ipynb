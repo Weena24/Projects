{
 "cells": [
  {
   "cell_type": "markdown",
   "id": "9724c216",
   "metadata": {},
   "source": [
    "## Lambda functions\n",
    "\n",
    "Anonymous functions\n",
    "A function with no name"
   ]
  },
  {
   "cell_type": "code",
   "execution_count": 2,
   "id": "681d2301",
   "metadata": {},
   "outputs": [],
   "source": [
    "def addition(a,b):\n",
    "    return a+b"
   ]
  },
  {
   "cell_type": "code",
   "execution_count": 3,
   "id": "eb3e0ab3",
   "metadata": {},
   "outputs": [
    {
     "data": {
      "text/plain": [
       "9"
      ]
     },
     "execution_count": 3,
     "metadata": {},
     "output_type": "execute_result"
    }
   ],
   "source": [
    "addition(4,5)"
   ]
  },
  {
   "cell_type": "code",
   "execution_count": null,
   "id": "cc632b79",
   "metadata": {},
   "outputs": [],
   "source": [
    "addition=lambda a,b:a+b #lambda function is possible only if you have a single return line / no need to use def and indentation"
   ]
  },
  {
   "cell_type": "code",
   "execution_count": 4,
   "id": "68476cae",
   "metadata": {},
   "outputs": [
    {
     "data": {
      "text/plain": [
       "26"
      ]
     },
     "execution_count": 4,
     "metadata": {},
     "output_type": "execute_result"
    }
   ],
   "source": [
    "addition(12,14)"
   ]
  },
  {
   "cell_type": "code",
   "execution_count": 5,
   "id": "2b659a3d",
   "metadata": {},
   "outputs": [],
   "source": [
    "def even(num):\n",
    "    if num%2==0:\n",
    "        return True"
   ]
  },
  {
   "cell_type": "code",
   "execution_count": 6,
   "id": "41fcdf69",
   "metadata": {},
   "outputs": [
    {
     "data": {
      "text/plain": [
       "True"
      ]
     },
     "execution_count": 6,
     "metadata": {},
     "output_type": "execute_result"
    }
   ],
   "source": [
    "even(24)"
   ]
  },
  {
   "cell_type": "code",
   "execution_count": 7,
   "id": "56253365",
   "metadata": {},
   "outputs": [],
   "source": [
    "even1=lambda a:a%2==0 #no need to write def and return true etc"
   ]
  },
  {
   "cell_type": "code",
   "execution_count": 8,
   "id": "8ed06b70",
   "metadata": {},
   "outputs": [
    {
     "data": {
      "text/plain": [
       "True"
      ]
     },
     "execution_count": 8,
     "metadata": {},
     "output_type": "execute_result"
    }
   ],
   "source": [
    "even1(24) #lambda executes function in a much simpler way with lesser code lines "
   ]
  },
  {
   "cell_type": "code",
   "execution_count": 11,
   "id": "f01432fd",
   "metadata": {},
   "outputs": [],
   "source": [
    "def addition(x,y,z):\n",
    "    return x+y+z"
   ]
  },
  {
   "cell_type": "code",
   "execution_count": 12,
   "id": "a1cf4758",
   "metadata": {},
   "outputs": [
    {
     "data": {
      "text/plain": [
       "6"
      ]
     },
     "execution_count": 12,
     "metadata": {},
     "output_type": "execute_result"
    }
   ],
   "source": [
    "addition(1,2,3)"
   ]
  },
  {
   "cell_type": "code",
   "execution_count": 13,
   "id": "1f7b0ba3",
   "metadata": {},
   "outputs": [],
   "source": [
    "addition1=lambda x,y,z:x+y+z"
   ]
  },
  {
   "cell_type": "code",
   "execution_count": 14,
   "id": "d0768478",
   "metadata": {},
   "outputs": [
    {
     "data": {
      "text/plain": [
       "6"
      ]
     },
     "execution_count": 14,
     "metadata": {},
     "output_type": "execute_result"
    }
   ],
   "source": [
    "addition1(1,2,3)"
   ]
  }
 ],
 "metadata": {
  "kernelspec": {
   "display_name": "Python 3 (ipykernel)",
   "language": "python",
   "name": "python3"
  },
  "language_info": {
   "codemirror_mode": {
    "name": "ipython",
    "version": 3
   },
   "file_extension": ".py",
   "mimetype": "text/x-python",
   "name": "python",
   "nbconvert_exporter": "python",
   "pygments_lexer": "ipython3",
   "version": "3.11.5"
  }
 },
 "nbformat": 4,
 "nbformat_minor": 5
}
