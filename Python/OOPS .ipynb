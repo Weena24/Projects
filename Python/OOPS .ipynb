{
 "cells": [
  {
   "cell_type": "markdown",
   "id": "1f1650c8",
   "metadata": {},
   "source": [
    "## OOPS Tutorial in Python"
   ]
  },
  {
   "cell_type": "code",
   "execution_count": 1,
   "id": "bbf3142f",
   "metadata": {},
   "outputs": [],
   "source": [
    "class Car:\n",
    "    #pass #when you write pass, it is an empty class.There are no properties defined in this class yet"
   ]
  },
  {
   "cell_type": "code",
   "execution_count": 2,
   "id": "12122cc1",
   "metadata": {},
   "outputs": [],
   "source": [
    "car1=Car()"
   ]
  },
  {
   "cell_type": "code",
   "execution_count": 3,
   "id": "01333e6e",
   "metadata": {},
   "outputs": [
    {
     "data": {
      "text/plain": [
       "<__main__.Car at 0x265e96ab010>"
      ]
     },
     "execution_count": 3,
     "metadata": {},
     "output_type": "execute_result"
    }
   ],
   "source": [
    "car1 #car object is created at this memory location"
   ]
  },
  {
   "cell_type": "code",
   "execution_count": 4,
   "id": "601d64fa",
   "metadata": {},
   "outputs": [],
   "source": [
    "#here we are creating instances\n",
    "car1.windows=5\n",
    "car1.doors=4 "
   ]
  },
  {
   "cell_type": "code",
   "execution_count": 6,
   "id": "f4cc3982",
   "metadata": {},
   "outputs": [
    {
     "name": "stdout",
     "output_type": "stream",
     "text": [
      "5\n"
     ]
    }
   ],
   "source": [
    "print(car1.windows)"
   ]
  },
  {
   "cell_type": "code",
   "execution_count": 8,
   "id": "5d26d35d",
   "metadata": {},
   "outputs": [],
   "source": [
    "car2=Car()"
   ]
  },
  {
   "cell_type": "code",
   "execution_count": 9,
   "id": "ca8e9d11",
   "metadata": {},
   "outputs": [],
   "source": [
    "car2.windows=3\n",
    "car2.doors=2"
   ]
  },
  {
   "cell_type": "code",
   "execution_count": 11,
   "id": "f7c4ff9c",
   "metadata": {},
   "outputs": [
    {
     "name": "stdout",
     "output_type": "stream",
     "text": [
      "3\n"
     ]
    }
   ],
   "source": [
    "print(car2.windows)"
   ]
  },
  {
   "cell_type": "code",
   "execution_count": 12,
   "id": "a6d265bb",
   "metadata": {},
   "outputs": [],
   "source": [
    "car2.enginetype=\"petrol\""
   ]
  },
  {
   "cell_type": "code",
   "execution_count": 14,
   "id": "4d7cee30",
   "metadata": {},
   "outputs": [
    {
     "name": "stdout",
     "output_type": "stream",
     "text": [
      "petrol\n"
     ]
    }
   ],
   "source": [
    "print(car2.enginetype)"
   ]
  },
  {
   "cell_type": "code",
   "execution_count": 15,
   "id": "ba621d0d",
   "metadata": {},
   "outputs": [],
   "source": [
    "#Attribute number is not fixed. any number of attributes can be created by the developper...this is a bad thing! \n",
    "#No control over attributes! Anyone can add anything! Have to resolve it"
   ]
  },
  {
   "cell_type": "code",
   "execution_count": 57,
   "id": "9594ff7e",
   "metadata": {},
   "outputs": [],
   "source": [
    "#Solving this issue\n",
    "#self is targeting car1\n",
    "\n",
    "class Car:\n",
    "    def __init__(self,window,door,enginetype):\n",
    "        self.windows=window #properties inside car\n",
    "        self.doors=door\n",
    "        self.enginetype=enginetype\n",
    "    def self_driving(self): #self_driving is method of car\n",
    "        return \"This is a {} car\".format(self.enginetype)   #can reuse this class many times "
   ]
  },
  {
   "cell_type": "code",
   "execution_count": 58,
   "id": "3891ed81",
   "metadata": {},
   "outputs": [],
   "source": [
    "car1=Car(4,5,\"petrol\")"
   ]
  },
  {
   "cell_type": "code",
   "execution_count": 59,
   "id": "a6c6f7e5",
   "metadata": {},
   "outputs": [
    {
     "data": {
      "text/plain": [
       "'This is a petrol car'"
      ]
     },
     "execution_count": 59,
     "metadata": {},
     "output_type": "execute_result"
    }
   ],
   "source": [
    "#self_driving ~ self takes the previous attributes given for car1\n",
    "\n",
    "car1.self_driving() "
   ]
  },
  {
   "cell_type": "code",
   "execution_count": 60,
   "id": "23b17a8e",
   "metadata": {},
   "outputs": [],
   "source": [
    "car2=Car(3,4,\"diesel\")"
   ]
  },
  {
   "cell_type": "code",
   "execution_count": 61,
   "id": "b2d347c7",
   "metadata": {},
   "outputs": [
    {
     "data": {
      "text/plain": [
       "'This is a diesel car'"
      ]
     },
     "execution_count": 61,
     "metadata": {},
     "output_type": "execute_result"
    }
   ],
   "source": [
    "#self_driving ~ self takes the previous attributes given for car2\n",
    "\n",
    "car2.self_driving()"
   ]
  },
  {
   "cell_type": "code",
   "execution_count": 52,
   "id": "59f0ba87",
   "metadata": {},
   "outputs": [
    {
     "name": "stdout",
     "output_type": "stream",
     "text": [
      "4\n"
     ]
    }
   ],
   "source": [
    "print(car1.windows)"
   ]
  },
  {
   "cell_type": "code",
   "execution_count": 53,
   "id": "c1942706",
   "metadata": {},
   "outputs": [
    {
     "name": "stdout",
     "output_type": "stream",
     "text": [
      "4\n"
     ]
    }
   ],
   "source": [
    "print(car2.doors)"
   ]
  },
  {
   "cell_type": "code",
   "execution_count": 54,
   "id": "36748e49",
   "metadata": {},
   "outputs": [
    {
     "name": "stdout",
     "output_type": "stream",
     "text": [
      "diesel\n"
     ]
    }
   ],
   "source": [
    "print(car2.enginetype)"
   ]
  },
  {
   "cell_type": "code",
   "execution_count": 17,
   "id": "0b268dd6",
   "metadata": {},
   "outputs": [
    {
     "data": {
      "text/plain": [
       "['__class__',\n",
       " '__delattr__',\n",
       " '__dict__',\n",
       " '__dir__',\n",
       " '__doc__',\n",
       " '__eq__',\n",
       " '__format__',\n",
       " '__ge__',\n",
       " '__getattribute__',\n",
       " '__getstate__',\n",
       " '__gt__',\n",
       " '__hash__',\n",
       " '__init__',\n",
       " '__init_subclass__',\n",
       " '__le__',\n",
       " '__lt__',\n",
       " '__module__',\n",
       " '__ne__',\n",
       " '__new__',\n",
       " '__reduce__',\n",
       " '__reduce_ex__',\n",
       " '__repr__',\n",
       " '__setattr__',\n",
       " '__sizeof__',\n",
       " '__str__',\n",
       " '__subclasshook__',\n",
       " '__weakref__',\n",
       " 'doors',\n",
       " 'windows']"
      ]
     },
     "execution_count": 17,
     "metadata": {},
     "output_type": "execute_result"
    }
   ],
   "source": [
    "dir(car1) #init function acts like a constructor. \n",
    "#A constructor is a special initialization function that is automatically called whenever a class is declared. "
   ]
  },
  {
   "cell_type": "code",
   "execution_count": 62,
   "id": "4c89995a",
   "metadata": {},
   "outputs": [],
   "source": [
    "#All class variables are public\n",
    "#Car Blueprint\n",
    "\n",
    "class Car:\n",
    "    def __init__(self,window,door,enginetype):\n",
    "        self.windows=window #properties inside car\n",
    "        self.doors=door\n",
    "        self.enginetype=enginetype\n",
    "    def drive(self): \n",
    "        print(\"The person drives the car\")"
   ]
  },
  {
   "cell_type": "code",
   "execution_count": 66,
   "id": "45bc5555",
   "metadata": {},
   "outputs": [],
   "source": [
    "car=Car(4,5,\"petrol\")"
   ]
  },
  {
   "cell_type": "code",
   "execution_count": 67,
   "id": "d0dcafe1",
   "metadata": {},
   "outputs": [
    {
     "name": "stdout",
     "output_type": "stream",
     "text": [
      "The person drives the car\n"
     ]
    }
   ],
   "source": [
    "car.drive()"
   ]
  },
  {
   "cell_type": "code",
   "execution_count": 68,
   "id": "c4f2feb7",
   "metadata": {},
   "outputs": [],
   "source": [
    "#car is parent class\n",
    "#audi is child class\n",
    "\n",
    "class audi(Car): \n",
    "    def __init__(self,windows,doors,enginetype,enableai):\n",
    "        super().__init__(windows,doors,enginetype) #call the parent init for all the previous parameters\n",
    "        self.enableai=enableai #new parameter\n",
    "    def self_driving(self):\n",
    "        print(\"Audi supports Self Driving\")"
   ]
  },
  {
   "cell_type": "code",
   "execution_count": 69,
   "id": "2b30ba61",
   "metadata": {},
   "outputs": [],
   "source": [
    "audiQ7=audi(5,5,\"diesel\",True)"
   ]
  },
  {
   "cell_type": "code",
   "execution_count": 70,
   "id": "d3e1a56f",
   "metadata": {},
   "outputs": [
    {
     "data": {
      "text/plain": [
       "['__class__',\n",
       " '__delattr__',\n",
       " '__dict__',\n",
       " '__dir__',\n",
       " '__doc__',\n",
       " '__eq__',\n",
       " '__format__',\n",
       " '__ge__',\n",
       " '__getattribute__',\n",
       " '__getstate__',\n",
       " '__gt__',\n",
       " '__hash__',\n",
       " '__init__',\n",
       " '__init_subclass__',\n",
       " '__le__',\n",
       " '__lt__',\n",
       " '__module__',\n",
       " '__ne__',\n",
       " '__new__',\n",
       " '__reduce__',\n",
       " '__reduce_ex__',\n",
       " '__repr__',\n",
       " '__setattr__',\n",
       " '__sizeof__',\n",
       " '__str__',\n",
       " '__subclasshook__',\n",
       " '__weakref__',\n",
       " 'doors',\n",
       " 'drive',\n",
       " 'enableai',\n",
       " 'enginetype',\n",
       " 'self_driving',\n",
       " 'windows']"
      ]
     },
     "execution_count": 70,
     "metadata": {},
     "output_type": "execute_result"
    }
   ],
   "source": [
    "dir(audiQ7) #parameters added at the end"
   ]
  },
  {
   "cell_type": "code",
   "execution_count": 71,
   "id": "92bcca29",
   "metadata": {},
   "outputs": [
    {
     "data": {
      "text/plain": [
       "5"
      ]
     },
     "execution_count": 71,
     "metadata": {},
     "output_type": "execute_result"
    }
   ],
   "source": [
    "audiQ7.windows"
   ]
  },
  {
   "cell_type": "code",
   "execution_count": 72,
   "id": "c1084c9f",
   "metadata": {},
   "outputs": [
    {
     "data": {
      "text/plain": [
       "5"
      ]
     },
     "execution_count": 72,
     "metadata": {},
     "output_type": "execute_result"
    }
   ],
   "source": [
    "audiQ7.doors"
   ]
  },
  {
   "cell_type": "code",
   "execution_count": 73,
   "id": "10f53757",
   "metadata": {},
   "outputs": [
    {
     "data": {
      "text/plain": [
       "True"
      ]
     },
     "execution_count": 73,
     "metadata": {},
     "output_type": "execute_result"
    }
   ],
   "source": [
    "audiQ7.enableai"
   ]
  },
  {
   "cell_type": "code",
   "execution_count": 76,
   "id": "f34697d8",
   "metadata": {},
   "outputs": [
    {
     "name": "stdout",
     "output_type": "stream",
     "text": [
      "Audi supports Self Driving\n"
     ]
    }
   ],
   "source": [
    "audiQ7.self_driving()"
   ]
  },
  {
   "cell_type": "code",
   "execution_count": null,
   "id": "2c087062",
   "metadata": {},
   "outputs": [],
   "source": []
  }
 ],
 "metadata": {
  "kernelspec": {
   "display_name": "Python 3 (ipykernel)",
   "language": "python",
   "name": "python3"
  },
  "language_info": {
   "codemirror_mode": {
    "name": "ipython",
    "version": 3
   },
   "file_extension": ".py",
   "mimetype": "text/x-python",
   "name": "python",
   "nbconvert_exporter": "python",
   "pygments_lexer": "ipython3",
   "version": "3.11.5"
  }
 },
 "nbformat": 4,
 "nbformat_minor": 5
}
