{
 "cells": [
  {
   "cell_type": "markdown",
   "id": "983883dc",
   "metadata": {},
   "source": [
    "## Python Exception Handling "
   ]
  },
  {
   "cell_type": "code",
   "execution_count": 1,
   "id": "16c3fa30",
   "metadata": {},
   "outputs": [],
   "source": [
    "a=10"
   ]
  },
  {
   "cell_type": "code",
   "execution_count": 2,
   "id": "1e3c6a14",
   "metadata": {},
   "outputs": [
    {
     "ename": "NameError",
     "evalue": "name 'b' is not defined",
     "output_type": "error",
     "traceback": [
      "\u001b[1;31m---------------------------------------------------------------------------\u001b[0m",
      "\u001b[1;31mNameError\u001b[0m                                 Traceback (most recent call last)",
      "Cell \u001b[1;32mIn[2], line 1\u001b[0m\n\u001b[1;32m----> 1\u001b[0m a\u001b[38;5;241m=\u001b[39mb\n",
      "\u001b[1;31mNameError\u001b[0m: name 'b' is not defined"
     ]
    }
   ],
   "source": [
    "a=b #NameError"
   ]
  },
  {
   "cell_type": "code",
   "execution_count": 5,
   "id": "049bd76d",
   "metadata": {},
   "outputs": [
    {
     "name": "stdout",
     "output_type": "stream",
     "text": [
      "Some problem may have occured\n"
     ]
    }
   ],
   "source": [
    "try:\n",
    "    #code block where exception can occur\n",
    "    a=b\n",
    "except:\n",
    "    print(\"Some problem may have occured\")"
   ]
  },
  {
   "cell_type": "code",
   "execution_count": 6,
   "id": "8e7373aa",
   "metadata": {},
   "outputs": [
    {
     "name": "stdout",
     "output_type": "stream",
     "text": [
      "name 'b' is not defined\n"
     ]
    }
   ],
   "source": [
    "try:\n",
    "    #code block where exception can occur\n",
    "    a=b\n",
    "except Exception as ex:\n",
    "    print(ex)"
   ]
  },
  {
   "cell_type": "code",
   "execution_count": 8,
   "id": "998f5973",
   "metadata": {},
   "outputs": [
    {
     "name": "stdout",
     "output_type": "stream",
     "text": [
      "The user has not defined the variable\n"
     ]
    }
   ],
   "source": [
    "try:\n",
    "    #code block where exception can occur\n",
    "    a=b\n",
    "except NameError as ex1: #put NameError to be able to input your personalised message\n",
    "    print(\"The user has not defined the variable\")\n",
    "except Exception as ex: #these lines have to stay at the end of the code \n",
    "    print(ex)"
   ]
  },
  {
   "cell_type": "code",
   "execution_count": 10,
   "id": "d02783b4",
   "metadata": {},
   "outputs": [
    {
     "ename": "TypeError",
     "evalue": "unsupported operand type(s) for +: 'int' and 'str'",
     "output_type": "error",
     "traceback": [
      "\u001b[1;31m---------------------------------------------------------------------------\u001b[0m",
      "\u001b[1;31mTypeError\u001b[0m                                 Traceback (most recent call last)",
      "Cell \u001b[1;32mIn[10], line 3\u001b[0m\n\u001b[0;32m      1\u001b[0m a\u001b[38;5;241m=\u001b[39m\u001b[38;5;241m1\u001b[39m\n\u001b[0;32m      2\u001b[0m b\u001b[38;5;241m=\u001b[39m\u001b[38;5;124m\"\u001b[39m\u001b[38;5;124ms\u001b[39m\u001b[38;5;124m\"\u001b[39m\n\u001b[1;32m----> 3\u001b[0m c\u001b[38;5;241m=\u001b[39ma\u001b[38;5;241m+\u001b[39mb\n",
      "\u001b[1;31mTypeError\u001b[0m: unsupported operand type(s) for +: 'int' and 'str'"
     ]
    }
   ],
   "source": [
    "#This is TypeError\n",
    "a=1\n",
    "b=\"s\"\n",
    "c=a+b"
   ]
  },
  {
   "cell_type": "code",
   "execution_count": 9,
   "id": "a5d767a3",
   "metadata": {},
   "outputs": [
    {
     "name": "stdout",
     "output_type": "stream",
     "text": [
      "unsupported operand type(s) for +: 'int' and 'str'\n"
     ]
    }
   ],
   "source": [
    "try:\n",
    "    #code block where exception can occur\n",
    "    a=1\n",
    "    b=\"s\"\n",
    "    c=a+b\n",
    "except NameError as ex1:     #this error will not get caught here as this is not a NameError. This is a TypeError\n",
    "    print(\"The user has not defined the variable\")\n",
    "except Exception as ex: #this error will get caught here instead\n",
    "    print(ex)"
   ]
  },
  {
   "cell_type": "code",
   "execution_count": 14,
   "id": "88d0c78d",
   "metadata": {},
   "outputs": [
    {
     "name": "stdout",
     "output_type": "stream",
     "text": [
      "Unsupported operation\n"
     ]
    }
   ],
   "source": [
    "try:\n",
    "    #code block where exception can occur\n",
    "    a=1\n",
    "    b=\"s\"\n",
    "    c=a+b\n",
    "except NameError:     #this error will not get caught here as this is not a NameError. This is a TypeError\n",
    "    print(\"The user has not defined the variable\")\n",
    "except TypeError:     #This is a TypeError. It will get caught here. No need to give alias as we have our message\n",
    "    print(\"Unsupported operation\")\n",
    "except Exception as ex: #this error will get caught here instead\n",
    "    print(ex)"
   ]
  },
  {
   "cell_type": "code",
   "execution_count": 15,
   "id": "7ee2cdbe",
   "metadata": {},
   "outputs": [
    {
     "name": "stdout",
     "output_type": "stream",
     "text": [
      "Enter number 112\n",
      "Enter number 24\n",
      "3.0\n",
      "48\n",
      "16\n"
     ]
    }
   ],
   "source": [
    "try:\n",
    "    #code block where exception can occur\n",
    "    a=int(input(\"Enter number 1\"))\n",
    "    b=int(input(\"Enter number 2\"))\n",
    "    c=a/b\n",
    "    d=a*b\n",
    "    e=a+b\n",
    "    print(c)\n",
    "    print(d)\n",
    "    print(e)\n",
    "except NameError:     #this error will not get caught here as this is not a NameError. This is a TypeError\n",
    "    print(\"The user has not defined the variable\")\n",
    "except TypeError:     #This is a TypeError. It will get caught here. No need to give alias as we have our message\n",
    "    print(\"Unsupported operation\")\n",
    "except Exception as ex: #this error will get caught here instead\n",
    "    print(ex)"
   ]
  },
  {
   "cell_type": "code",
   "execution_count": 17,
   "id": "afdcf983",
   "metadata": {},
   "outputs": [
    {
     "name": "stdout",
     "output_type": "stream",
     "text": [
      "Enter number 112\n",
      "Enter number 24\n",
      "3.0\n",
      "48\n",
      "16\n"
     ]
    }
   ],
   "source": [
    "#try else\n",
    "\n",
    "try:\n",
    "    #code block where exception can occur\n",
    "    a=int(input(\"Enter number 1\"))\n",
    "    b=int(input(\"Enter number 2\"))\n",
    "    c=a/b\n",
    "    d=a*b\n",
    "    e=a+b\n",
    "  \n",
    "except NameError:     #this error will not get caught here as this is not a NameError. This is a TypeError\n",
    "    print(\"The user has not defined the variable\")\n",
    "except TypeError:     #This is a TypeError. It will get caught here. No need to give alias as we have our message\n",
    "    print(\"Unsupported operation\")\n",
    "except Exception as ex: #this error will get caught here instead\n",
    "    print(ex)\n",
    "else:\n",
    "    print(c)\n",
    "    print(d)\n",
    "    print(e)"
   ]
  },
  {
   "cell_type": "code",
   "execution_count": 24,
   "id": "a91cdc1c",
   "metadata": {},
   "outputs": [
    {
     "name": "stdout",
     "output_type": "stream",
     "text": [
      "Enter number 1 12\n",
      "Enter number 2 0\n",
      "Please provide number greater than 0\n"
     ]
    }
   ],
   "source": [
    "#try else\n",
    "\n",
    "try:\n",
    "    #code block where exception can occur\n",
    "    a=int(input(\"Enter number 1 \"))\n",
    "    b=int(input(\"Enter number 2 \"))\n",
    "    c=a/b\n",
    "    d=a*b\n",
    "    e=a+b\n",
    "\n",
    "except NameError:     #this error will not get caught here as this is not a NameError. This is a TypeError\n",
    "    print(\"The user has not defined the variable\")\n",
    "except ZeroDivisionError:   #this error will not get caught here as this is not a NameError. This is a TypeError\n",
    "    print(\"Please provide number greater than 0\")\n",
    "except TypeError:     #This is a TypeError. It will get caught here. No need to give alias as we have our message\n",
    "    print(\"Unsupported operation\")\n",
    "except Exception as ex: #this error will get caught here instead\n",
    "    print(ex)\n",
    "else:\n",
    "    print(c) #these do not get printed as error has been caught in ZeroDivisionError\n",
    "    print(d)\n",
    "    print(e)"
   ]
  },
  {
   "cell_type": "code",
   "execution_count": 21,
   "id": "6992a3fd",
   "metadata": {},
   "outputs": [
    {
     "name": "stdout",
     "output_type": "stream",
     "text": [
      "Enter number 1 12\n",
      "Enter number 2 4\n",
      "3.0\n",
      "The execution is done\n"
     ]
    }
   ],
   "source": [
    "#try else finally\n",
    "\n",
    "try:\n",
    "    #code block where exception can occur\n",
    "    a=int(input(\"Enter number 1 \"))\n",
    "    b=int(input(\"Enter number 2 \"))\n",
    "    c=a/b\n",
    "\n",
    "except NameError:     #this error will not get caught here as this is not a NameError. This is a TypeError\n",
    "    print(\"The user has not defined the variable\")\n",
    "except ZeroDivisionError:   #this error will not get caught here as this is not a NameError. This is a TypeError\n",
    "    print(\"Please provide number greater than 0\")\n",
    "except TypeError:     #This is a TypeError. It will get caught here. No need to give alias as we have our message\n",
    "    print(\"Unsupported operation\")\n",
    "except Exception as ex: #this error will get caught here instead\n",
    "    print(ex)\n",
    "else:\n",
    "    print(c) #these do not get printed as error has been caught in ZeroDivisionError\n",
    "finally:\n",
    "    print(\"The execution is done\") "
   ]
  },
  {
   "cell_type": "code",
   "execution_count": 22,
   "id": "c75b0501",
   "metadata": {},
   "outputs": [
    {
     "name": "stdout",
     "output_type": "stream",
     "text": [
      "Enter number 1 12\n",
      "Enter number 2 0\n",
      "Please provide number greater than 0\n",
      "The execution is done\n"
     ]
    }
   ],
   "source": [
    "#try else finally\n",
    "\n",
    "try:\n",
    "    #code block where exception can occur\n",
    "    a=int(input(\"Enter number 1 \"))\n",
    "    b=int(input(\"Enter number 2 \"))\n",
    "    c=a/b\n",
    "\n",
    "except NameError:     #this error will not get caught here as this is not a NameError. This is a TypeError\n",
    "    print(\"The user has not defined the variable\")\n",
    "except ZeroDivisionError:   #this error will not get caught here as this is not a NameError. This is a TypeError\n",
    "    print(\"Please provide number greater than 0\")\n",
    "except TypeError:     #This is a TypeError. It will get caught here. No need to give alias as we have our message\n",
    "    print(\"Unsupported operation\")\n",
    "except Exception as ex: #this error will get caught here instead\n",
    "    print(ex)\n",
    "else:\n",
    "    print(c) #these do not get printed as error has been caught in ZeroDivisionError\n",
    "finally:\n",
    "    print(\"The execution is done\") #finally block will always get printed althought error is caught "
   ]
  }
 ],
 "metadata": {
  "kernelspec": {
   "display_name": "Python 3 (ipykernel)",
   "language": "python",
   "name": "python3"
  },
  "language_info": {
   "codemirror_mode": {
    "name": "ipython",
    "version": 3
   },
   "file_extension": ".py",
   "mimetype": "text/x-python",
   "name": "python",
   "nbconvert_exporter": "python",
   "pygments_lexer": "ipython3",
   "version": "3.11.5"
  }
 },
 "nbformat": 4,
 "nbformat_minor": 5
}
