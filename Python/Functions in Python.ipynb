{
 "cells": [
  {
   "cell_type": "markdown",
   "id": "6c1eff9e",
   "metadata": {},
   "source": [
    "## Functions in Python\n",
    "\n",
    "- Why Functions\n",
    "- Functions Definitions\n",
    "- Positional and Keyword Arguments in Functions"
   ]
  },
  {
   "cell_type": "code",
   "execution_count": 3,
   "id": "c2edf754",
   "metadata": {},
   "outputs": [
    {
     "name": "stdout",
     "output_type": "stream",
     "text": [
      "The number is even\n"
     ]
    }
   ],
   "source": [
    "num=24\n",
    "\n",
    "if num%2==0:\n",
    "    print('The number is even')\n",
    "else:\n",
    "    print('The number is odd')"
   ]
  },
  {
   "cell_type": "code",
   "execution_count": 8,
   "id": "b45b4058",
   "metadata": {},
   "outputs": [],
   "source": [
    "def even_odd(num):\n",
    "    if num%2==0:\n",
    "        print('The number is even')\n",
    "    else:\n",
    "        print('The number is odd')"
   ]
  },
  {
   "cell_type": "code",
   "execution_count": 9,
   "id": "a74319ba",
   "metadata": {},
   "outputs": [
    {
     "name": "stdout",
     "output_type": "stream",
     "text": [
      "The number is even\n"
     ]
    }
   ],
   "source": [
    "even_odd(24)"
   ]
  },
  {
   "cell_type": "code",
   "execution_count": 10,
   "id": "6aa35dcb",
   "metadata": {},
   "outputs": [],
   "source": [
    "# print vs return\n",
    "def hello_world():\n",
    "    print(\"Hello World\") "
   ]
  },
  {
   "cell_type": "code",
   "execution_count": 11,
   "id": "214fba5c",
   "metadata": {},
   "outputs": [
    {
     "name": "stdout",
     "output_type": "stream",
     "text": [
      "Hello World\n"
     ]
    }
   ],
   "source": [
    "hello_world() #print is only a display but the function itself was not called "
   ]
  },
  {
   "cell_type": "code",
   "execution_count": 16,
   "id": "172dd582",
   "metadata": {},
   "outputs": [],
   "source": [
    "def add_number(num1,num2):\n",
    "    return num1+num2 #return is about calling the function"
   ]
  },
  {
   "cell_type": "code",
   "execution_count": 17,
   "id": "746102e5",
   "metadata": {},
   "outputs": [
    {
     "data": {
      "text/plain": [
       "3"
      ]
     },
     "execution_count": 17,
     "metadata": {},
     "output_type": "execute_result"
    }
   ],
   "source": [
    "add_number(1,2)"
   ]
  },
  {
   "cell_type": "code",
   "execution_count": 18,
   "id": "e1c147a6",
   "metadata": {},
   "outputs": [],
   "source": [
    "def add_number(num1,num2):\n",
    "    return num1+num2"
   ]
  },
  {
   "cell_type": "code",
   "execution_count": 19,
   "id": "4f085651",
   "metadata": {},
   "outputs": [],
   "source": [
    "val=add_number(1,2)"
   ]
  },
  {
   "cell_type": "code",
   "execution_count": 20,
   "id": "766dd2a7",
   "metadata": {},
   "outputs": [
    {
     "data": {
      "text/plain": [
       "3"
      ]
     },
     "execution_count": 20,
     "metadata": {},
     "output_type": "execute_result"
    }
   ],
   "source": [
    "val"
   ]
  },
  {
   "cell_type": "code",
   "execution_count": 24,
   "id": "e553cedc",
   "metadata": {},
   "outputs": [],
   "source": [
    "#name is my positional argument - no value is assigned \n",
    "#age is my keyword argument\n",
    "\n",
    "def hello(name,age=29):\n",
    "    print(\"My name is {} and age is {}\".format(name,age))"
   ]
  },
  {
   "cell_type": "code",
   "execution_count": 27,
   "id": "01445efd",
   "metadata": {},
   "outputs": [
    {
     "name": "stdout",
     "output_type": "stream",
     "text": [
      "My name is Weena and age is 29\n"
     ]
    }
   ],
   "source": [
    "hello('Weena')"
   ]
  },
  {
   "cell_type": "code",
   "execution_count": 28,
   "id": "1195447f",
   "metadata": {},
   "outputs": [],
   "source": [
    "def hello(*args,**kwargs):\n",
    "    print(args)\n",
    "    print(kwargs)"
   ]
  },
  {
   "cell_type": "code",
   "execution_count": 29,
   "id": "ea44869c",
   "metadata": {},
   "outputs": [
    {
     "name": "stdout",
     "output_type": "stream",
     "text": [
      "('Weena', 'Ramen')\n",
      "{'age': 29, 'dob': 1989}\n"
     ]
    }
   ],
   "source": [
    "hello('Weena','Ramen',age=29,dob=1989)"
   ]
  },
  {
   "cell_type": "code",
   "execution_count": 30,
   "id": "d244e6e4",
   "metadata": {},
   "outputs": [],
   "source": [
    "lst=['Weena','Ramen']\n",
    "dict_args={'age':29, 'dob':1989}"
   ]
  },
  {
   "cell_type": "code",
   "execution_count": 32,
   "id": "4d65b386",
   "metadata": {},
   "outputs": [
    {
     "name": "stdout",
     "output_type": "stream",
     "text": [
      "('Weena', 'Ramen')\n",
      "{'age': 29, 'dob': 1989}\n"
     ]
    }
   ],
   "source": [
    "hello(*lst,**dict_args)"
   ]
  },
  {
   "cell_type": "code",
   "execution_count": 36,
   "id": "080825b2",
   "metadata": {},
   "outputs": [],
   "source": [
    "list=[1,2,3,4,5,6,7]"
   ]
  },
  {
   "cell_type": "code",
   "execution_count": 37,
   "id": "09952dd8",
   "metadata": {},
   "outputs": [],
   "source": [
    "def evenoddsum(list):\n",
    "    even_sum=0\n",
    "    odd_sum=0\n",
    "    for i in list:\n",
    "        if i%2==0:\n",
    "            even_sum=even_sum+i\n",
    "        else:\n",
    "            odd_sum=odd_sum+i\n",
    "    return even_sum,odd_sum"
   ]
  },
  {
   "cell_type": "code",
   "execution_count": 38,
   "id": "36f0e5f3",
   "metadata": {},
   "outputs": [
    {
     "data": {
      "text/plain": [
       "(12, 16)"
      ]
     },
     "execution_count": 38,
     "metadata": {},
     "output_type": "execute_result"
    }
   ],
   "source": [
    "evenoddsum(list)"
   ]
  }
 ],
 "metadata": {
  "kernelspec": {
   "display_name": "Python 3 (ipykernel)",
   "language": "python",
   "name": "python3"
  },
  "language_info": {
   "codemirror_mode": {
    "name": "ipython",
    "version": 3
   },
   "file_extension": ".py",
   "mimetype": "text/x-python",
   "name": "python",
   "nbconvert_exporter": "python",
   "pygments_lexer": "ipython3",
   "version": "3.11.5"
  }
 },
 "nbformat": 4,
 "nbformat_minor": 5
}
