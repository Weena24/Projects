{
 "cells": [
  {
   "cell_type": "markdown",
   "id": "5d2e8e2b",
   "metadata": {},
   "source": [
    "## String Formatting in Python"
   ]
  },
  {
   "cell_type": "code",
   "execution_count": 1,
   "id": "10cb7c7b",
   "metadata": {},
   "outputs": [
    {
     "name": "stdout",
     "output_type": "stream",
     "text": [
      "Hello everyone\n"
     ]
    }
   ],
   "source": [
    "print(\"Hello everyone\")"
   ]
  },
  {
   "cell_type": "code",
   "execution_count": 2,
   "id": "a11ffb6e",
   "metadata": {},
   "outputs": [],
   "source": [
    "strs=\"Hello Everyone\""
   ]
  },
  {
   "cell_type": "code",
   "execution_count": 3,
   "id": "31af2254",
   "metadata": {},
   "outputs": [
    {
     "data": {
      "text/plain": [
       "'Hello Everyone'"
      ]
     },
     "execution_count": 3,
     "metadata": {},
     "output_type": "execute_result"
    }
   ],
   "source": [
    "strs"
   ]
  },
  {
   "cell_type": "code",
   "execution_count": 4,
   "id": "f0524f2c",
   "metadata": {},
   "outputs": [],
   "source": [
    "def greeting(name):\n",
    "    return \"Hello {}.Welcome to the community\".format(name)"
   ]
  },
  {
   "cell_type": "code",
   "execution_count": 8,
   "id": "06c18812",
   "metadata": {},
   "outputs": [
    {
     "data": {
      "text/plain": [
       "'Hello Weena.Welcome to the community'"
      ]
     },
     "execution_count": 8,
     "metadata": {},
     "output_type": "execute_result"
    }
   ],
   "source": [
    "greeting(\"Weena\")"
   ]
  },
  {
   "cell_type": "code",
   "execution_count": 21,
   "id": "417e3570",
   "metadata": {},
   "outputs": [],
   "source": [
    "def welcome_email(firstname,lastname):\n",
    "    return \"Hey {}. Everyone please clap for {}\".format(lastname,firstname)#order matters in format function"
   ]
  },
  {
   "cell_type": "code",
   "execution_count": 22,
   "id": "79bad472",
   "metadata": {},
   "outputs": [
    {
     "data": {
      "text/plain": [
       "'Hey Ramen. Everyone please clap for Weena'"
      ]
     },
     "execution_count": 22,
     "metadata": {},
     "output_type": "execute_result"
    }
   ],
   "source": [
    "welcome_email(\"Weena\",\"Ramen\")"
   ]
  },
  {
   "cell_type": "code",
   "execution_count": 16,
   "id": "0ba7e239",
   "metadata": {},
   "outputs": [],
   "source": [
    "def welcome_email(name,age):\n",
    "    return \"Welcome {name}. Your age is {age}\".format(age=age, name=name)#order does not matter in the format function"
   ]
  },
  {
   "cell_type": "code",
   "execution_count": 18,
   "id": "1fc71360",
   "metadata": {},
   "outputs": [
    {
     "data": {
      "text/plain": [
       "'Welcome Weena. Your age is 35'"
      ]
     },
     "execution_count": 18,
     "metadata": {},
     "output_type": "execute_result"
    }
   ],
   "source": [
    "welcome_email(\"Weena\",35)#order matters in calling the function"
   ]
  },
  {
   "cell_type": "code",
   "execution_count": 19,
   "id": "2fe41f1b",
   "metadata": {},
   "outputs": [],
   "source": [
    "def welcome_email(name,age):\n",
    "    return \"Welcome {name}. Your age is {age}\".format(age=name, name=age) #format function input is very important "
   ]
  },
  {
   "cell_type": "code",
   "execution_count": 20,
   "id": "a1f7083b",
   "metadata": {},
   "outputs": [
    {
     "data": {
      "text/plain": [
       "'Welcome 35. Your age is Weena'"
      ]
     },
     "execution_count": 20,
     "metadata": {},
     "output_type": "execute_result"
    }
   ],
   "source": [
    "welcome_email(\"Weena\",35) #displays according to format function inputs"
   ]
  }
 ],
 "metadata": {
  "kernelspec": {
   "display_name": "Python 3 (ipykernel)",
   "language": "python",
   "name": "python3"
  },
  "language_info": {
   "codemirror_mode": {
    "name": "ipython",
    "version": 3
   },
   "file_extension": ".py",
   "mimetype": "text/x-python",
   "name": "python",
   "nbconvert_exporter": "python",
   "pygments_lexer": "ipython3",
   "version": "3.11.5"
  }
 },
 "nbformat": 4,
 "nbformat_minor": 5
}
