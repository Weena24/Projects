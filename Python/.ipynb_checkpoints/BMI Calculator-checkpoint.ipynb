{
 "cells": [
  {
   "cell_type": "markdown",
   "id": "3b79168b",
   "metadata": {},
   "source": [
    "## BMI Calculator"
   ]
  },
  {
   "cell_type": "markdown",
   "id": "e86b8545",
   "metadata": {},
   "source": [
    "BMI = (weight in pounds x 703) / (height in inches x height in inches)"
   ]
  },
  {
   "cell_type": "code",
   "execution_count": 13,
   "id": "c923d584",
   "metadata": {},
   "outputs": [],
   "source": [
    "# Under 18.5 - Underweight-Minimal\n",
    "# 18.5 - 24.9 - Normal Weight -Minimal\n",
    "# 25 - 29.9 - Overweight - Increased\n",
    "# 30 - 34.9 - Obese - High\n",
    "# 35 - 39.9 - Severely Obese - Very High\n",
    "# 40 and over - Morbidly Obese - Extremely High "
   ]
  },
  {
   "cell_type": "code",
   "execution_count": 12,
   "id": "0d598ec8",
   "metadata": {},
   "outputs": [
    {
     "name": "stdout",
     "output_type": "stream",
     "text": [
      "Enter your weight in pounds: 126\n",
      "Enter your height in inches: 63\n",
      "22.317460317460316\n"
     ]
    }
   ],
   "source": [
    "weight = int (input(\"Enter your weight in pounds: \"))\n",
    "\n",
    "height = int (input(\"Enter your height in inches: \"))\n",
    "             \n",
    "BMI = (weight * 703) / (height * height)\n",
    "\n",
    "print (BMI)"
   ]
  },
  {
   "cell_type": "code",
   "execution_count": 6,
   "id": "70ed131d",
   "metadata": {},
   "outputs": [
    {
     "name": "stdout",
     "output_type": "stream",
     "text": [
      "126\n"
     ]
    }
   ],
   "source": [
    "print (weight)"
   ]
  },
  {
   "cell_type": "code",
   "execution_count": 21,
   "id": "46eed8a2",
   "metadata": {},
   "outputs": [
    {
     "name": "stdout",
     "output_type": "stream",
     "text": [
      "You are normal weight\n"
     ]
    }
   ],
   "source": [
    "if BMI > 0:\n",
    "    if (BMI < 18.5):\n",
    "        print(\"You are underweight.\")\n",
    "    elif (BMI <= 24.9):\n",
    "        print(\"You are normal weight\")\n",
    "    elif (BMI <= 29.9):\n",
    "        print(\"You are overweight\")\n",
    "    elif (BMI <= 34.9):\n",
    "        print(\"You are obese\")\n",
    "    elif (BMI <= 39.9):\n",
    "        print(\"You are severely obese\")\n",
    "    elif (BMI >= 40):\n",
    "        print(\"You are morbidly obese\")\n",
    "else:\n",
    "    print(\"Enter valid inputs\")"
   ]
  },
  {
   "cell_type": "code",
   "execution_count": null,
   "id": "0685a5d4",
   "metadata": {},
   "outputs": [],
   "source": []
  },
  {
   "cell_type": "code",
   "execution_count": null,
   "id": "32401bc8",
   "metadata": {},
   "outputs": [],
   "source": []
  },
  {
   "cell_type": "code",
   "execution_count": null,
   "id": "9fad7433",
   "metadata": {},
   "outputs": [],
   "source": []
  },
  {
   "cell_type": "code",
   "execution_count": null,
   "id": "ce699c50",
   "metadata": {},
   "outputs": [],
   "source": []
  },
  {
   "cell_type": "code",
   "execution_count": null,
   "id": "6ae1e0cc",
   "metadata": {},
   "outputs": [],
   "source": []
  },
  {
   "cell_type": "code",
   "execution_count": null,
   "id": "ca9e185b",
   "metadata": {},
   "outputs": [],
   "source": []
  },
  {
   "cell_type": "code",
   "execution_count": null,
   "id": "eb8a184e",
   "metadata": {},
   "outputs": [],
   "source": []
  },
  {
   "cell_type": "code",
   "execution_count": null,
   "id": "bb082879",
   "metadata": {},
   "outputs": [],
   "source": []
  },
  {
   "cell_type": "code",
   "execution_count": null,
   "id": "c45799cc",
   "metadata": {},
   "outputs": [],
   "source": []
  },
  {
   "cell_type": "code",
   "execution_count": null,
   "id": "40c6e6a3",
   "metadata": {},
   "outputs": [],
   "source": []
  },
  {
   "cell_type": "code",
   "execution_count": null,
   "id": "ad87478e",
   "metadata": {},
   "outputs": [],
   "source": []
  },
  {
   "cell_type": "code",
   "execution_count": null,
   "id": "1b40b372",
   "metadata": {},
   "outputs": [],
   "source": []
  },
  {
   "cell_type": "code",
   "execution_count": null,
   "id": "114724e0",
   "metadata": {},
   "outputs": [],
   "source": []
  },
  {
   "cell_type": "code",
   "execution_count": null,
   "id": "1e7f3481",
   "metadata": {},
   "outputs": [],
   "source": []
  },
  {
   "cell_type": "code",
   "execution_count": null,
   "id": "5bc869e7",
   "metadata": {},
   "outputs": [],
   "source": []
  }
 ],
 "metadata": {
  "kernelspec": {
   "display_name": "Python 3 (ipykernel)",
   "language": "python",
   "name": "python3"
  },
  "language_info": {
   "codemirror_mode": {
    "name": "ipython",
    "version": 3
   },
   "file_extension": ".py",
   "mimetype": "text/x-python",
   "name": "python",
   "nbconvert_exporter": "python",
   "pygments_lexer": "ipython3",
   "version": "3.11.5"
  }
 },
 "nbformat": 4,
 "nbformat_minor": 5
}
